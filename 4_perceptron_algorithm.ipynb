{
 "cells": [
  {
   "cell_type": "markdown",
   "metadata": {},
   "source": [
    "### Perceptron\n",
    "$X \\in R_{n \\times d + 1}$,\n",
    "$W\\in R_{d + 1 \\times 1}$,\n",
    "$Y \\in R_{n \\times 1}$\n",
    "\n",
    "1. Hypothesis :\n",
    "$\\mathcal{H} = sign(X W)$\n",
    "\n",
    "\n",
    "2. Cost function :\n",
    "$\\mathcal{L}(W) = ||- Y H||_1$\n",
    "\n",
    "\n",
    "3. Boundary decision :\n",
    "$\\mathcal{B} = w_d x_d + .... + w_0$"
   ]
  },
  {
   "cell_type": "markdown",
   "metadata": {},
   "source": [
    "### Stochastic gradient descent algorithm\n",
    "\n",
    "1. Initialize weight w to any random number : $W_0 = \\Theta$\n",
    "\n",
    "2. Pick a value for the learning rate $\\eta$.\n",
    "    - If α is very small, it would take long time to converge.\n",
    "    - If α is large, it may fail to converge and overshoot the minimum.\n",
    "\n",
    "\n",
    "3. Repeat until no error point :  $ W_{t+1} = W_t - \\eta ~ \\mathcal{L}'(W_t; x_i, y_i)$\n",
    "\n",
    "**Note:**  $\\mathcal{L}'(W_t; x_i, y_i) = -y_i x_i$"
   ]
  },
  {
   "cell_type": "code",
   "execution_count": 8,
   "metadata": {},
   "outputs": [
    {
     "data": {
      "image/png": "[encoded data removed]",
      "text/plain": [
       "<Figure size 432x288 with 1 Axes>"
      ]
     },
     "metadata": {
      "needs_background": "light"
     },
     "output_type": "display_data"
    }
   ],
   "source": [
    "import numpy as np\n",
    "import matplotlib.pyplot as plt\n",
    "\n",
    "N = 10\n",
    "means = [[-1.5, 0], [1.5, 0]]\n",
    "cov = [[.3, .2], [.2, .3]]\n",
    "\n",
    "# generate data (gauss distribution)\n",
    "X0 = np.random.multivariate_normal(means[0], cov, N)\n",
    "X1 = np.random.multivariate_normal(means[1], cov, N)\n",
    "\n",
    "_X = np.concatenate((X0, X1), axis = 0)\n",
    "y = np.concatenate((np.ones(N), -np.ones(N)))\n",
    "\n",
    "# show graph\n",
    "plt.scatter(_X[:N,0], _X[:N,1], c=\"red\")\n",
    "plt.scatter(_X[N:,0], _X[N:,1], c=\"blue\")\n",
    "plt.show()\n",
    "\n",
    "X = np.concatenate((np.ones((2*N, 1)), _X), axis = 1)"
   ]
  },
  {
   "cell_type": "code",
   "execution_count": 9,
   "metadata": {},
   "outputs": [],
   "source": [
    "# predict label of each row of X, given w\n",
    "def predict(X, w):\n",
    "    return np.sign(X.dot(w))\n",
    "# perform perceptron learning algorithm\n",
    "def peceptron(X, y, w_init):\n",
    "    w = w_init\n",
    "    while True:\n",
    "        pred = predict(X, w) # predict label -1 & 1\n",
    "        mis_indxs = np.where(np.not_equal(pred, y))\n",
    "        num_mis = mis_indxs[0].shape[0]\n",
    "        if num_mis == 0 : return w\n",
    "        random_id = np.random.choice(mis_indxs[0], 1)[0]\n",
    "        w = w + y[random_id]*X[random_id]"
   ]
  },
  {
   "cell_type": "code",
   "execution_count": 12,
   "metadata": {
    "scrolled": false
   },
   "outputs": [
    {
     "data": {
      "image/png": "[encoded data removed]",
      "text/plain": [
       "<Figure size 432x288 with 1 Axes>"
      ]
     },
     "metadata": {
      "needs_background": "light"
     },
     "output_type": "display_data"
    }
   ],
   "source": [
    "w = peceptron(X, y, np.random.randn(X.shape[1]))\n",
    "# show graph\n",
    "plt.scatter(_X[:N,0], _X[:N,1], c=\"red\")\n",
    "plt.scatter(_X[N:,0], _X[N:,1], c=\"blue\")\n",
    "\n",
    "dom = [-1, 1]\n",
    "val = [(w[0] + w[1]*x)/w[2] for x in dom]\n",
    "plt.plot(dom, val); plt.show()"
   ]
  },
  {
   "cell_type": "markdown",
   "metadata": {},
   "source": [
    "### Pocket Algorithm (Perceptron)\n",
    "\n",
    "1. Initialize weight w to any random number : $W_0 = \\Theta$\n",
    "\n",
    "2. Pick a value for the learning rate $\\eta$.\n",
    "    - If α is very small, it would take long time to converge.\n",
    "    - If α is large, it may fail to converge and overshoot the minimum.\n",
    "\n",
    "\n",
    "3. Repeat N loop :  $ W_{t+1} = W_t - \\eta ~ \\mathcal{L}'(W_t; x_i, y_i)$\n",
    "\n",
    "**Note:**  $\\mathcal{L}'(W_t; x_i, y_i) = -y_i x_i$"
   ]
  },
  {
   "cell_type": "code",
   "execution_count": 1,
   "metadata": {},
   "outputs": [
    {
     "data": {
      "text/plain": [
       "<Figure size 640x480 with 1 Axes>"
      ]
     },
     "metadata": {},
     "output_type": "display_data"
    }
   ],
   "source": [
    "import numpy as np\n",
    "import matplotlib.pyplot as plt\n",
    "\n",
    "N = 10\n",
    "means = [[-.5, 0], [.5, 0]]\n",
    "cov = [[.3, .2], [.2, .3]]\n",
    "\n",
    "# generate data (gauss distribution)\n",
    "X0 = np.random.multivariate_normal(means[0], cov, N)\n",
    "X1 = np.random.multivariate_normal(means[1], cov, N)\n",
    "\n",
    "_X = np.concatenate((X0, X1), axis = 0)\n",
    "y = np.concatenate((np.ones(N), -np.ones(N)))\n",
    "\n",
    "# show graph\n",
    "plt.scatter(_X[:N,0], _X[:N,1], c=\"red\")\n",
    "plt.scatter(_X[N:,0], _X[N:,1], c=\"blue\")\n",
    "plt.show()\n",
    "\n",
    "X = np.concatenate((np.ones((2*N, 1)), _X), axis = 1)\n",
    "y = y.reshape(1, 20)"
   ]
  },
  {
   "cell_type": "code",
   "execution_count": 2,
   "metadata": {},
   "outputs": [],
   "source": [
    "# predict label of each row of X, given w\n",
    "def predict(X, w):\n",
    "    return np.sign(X.dot(w))\n",
    "# perform perceptron learning algorithm\n",
    "def peceptron(X, y, w_init, loop):\n",
    "    w =  w_best = w_init\n",
    "    num_mis = num_mis_best = N\n",
    "    for it in range(loop):\n",
    "        pred = predict(X, w.T)\n",
    "        chck = np.equal(y, pred)\n",
    "        num_mis = len(chck[0]) - chck.sum()\n",
    "        if num_mis < num_mis_best: \n",
    "            w_best = w\n",
    "            num_mis_best = num_mis\n",
    "        w = w + y.dot(X)\n",
    "    return w_best"
   ]
  },
  {
   "cell_type": "code",
   "execution_count": 3,
   "metadata": {
    "scrolled": false
   },
   "outputs": [
    {
     "data": {
      "image/png": "[encoded data removed]",
      "text/plain": [
       "<Figure size 432x288 with 1 Axes>"
      ]
     },
     "metadata": {
      "needs_background": "light"
     },
     "output_type": "display_data"
    }
   ],
   "source": [
    "w = peceptron(X, y, np.random.randn(X.shape[1]).T, 10000)\n",
    "# show graph\n",
    "plt.scatter(_X[:N,0], _X[:N,1], c=\"red\")\n",
    "plt.scatter(_X[N:,0], _X[N:,1], c=\"blue\")\n",
    "\n",
    "dom = [-1, 1]\n",
    "val = [(w[0][0] + w[0][1]*x)/w[0][2] for x in dom]\n",
    "plt.plot(dom, val); plt.show()"
   ]
  }
 ],
 "metadata": {
  "kernelspec": {
   "display_name": "Python 3",
   "language": "python",
   "name": "python3"
  },
  "language_info": {
   "codemirror_mode": {
    "name": "ipython",
    "version": 3
   },
   "file_extension": ".py",
   "mimetype": "text/x-python",
   "name": "python",
   "nbconvert_exporter": "python",
   "pygments_lexer": "ipython3",
   "version": "3.6.8"
  }
 },
 "nbformat": 4,
 "nbformat_minor": 2
}
