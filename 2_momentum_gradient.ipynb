{
 "cells": [
  {
   "cell_type": "markdown",
   "metadata": {},
   "source": [
    "### Gradient descent algorithm\n",
    "\n",
    "1. Initialize variable x to any random number : $x_0 = \\alpha$\n",
    "\n",
    "2. Pick a value for the learning rate $\\eta$.\n",
    "    - If α is very small, it would take long time to converge.\n",
    "    - If α is large, it may fail to converge and overshoot the minimum.\n",
    "    \n",
    "\n",
    "3. Repeat until convergense :  $ x_{t+1} = x_t - \\eta ~ f'(x_t)$"
   ]
  },
  {
   "cell_type": "markdown",
   "metadata": {},
   "source": [
    "### Simple Example\n",
    "- Simple function : $f(x) = x^2 + 10sin(x)$\n",
    "- Derivative function : $f'(x) = 2x + 10cos(x)$\n",
    "- Gradient descent formula : $ x_{t+1} = x_t - \\eta ~ (2x + 10cos(x)) $"
   ]
  },
  {
   "cell_type": "code",
   "execution_count": 34,
   "metadata": {},
   "outputs": [],
   "source": [
    "# Cost function\n",
    "def cost(x):\n",
    "    return np.power(x, 2) + 10*np.sin(x)\n",
    "\n",
    "# Derivative function\n",
    "def grad(x):\n",
    "    return np.dot(2, x) + 10*np.cos(x)"
   ]
  },
  {
   "cell_type": "code",
   "execution_count": 35,
   "metadata": {},
   "outputs": [
    {
     "data": {
      "image/png": "[encoded data removed]",
      "text/plain": [
       "<Figure size 432x288 with 1 Axes>"
      ]
     },
     "metadata": {
      "needs_background": "light"
     },
     "output_type": "display_data"
    },
    {
     "name": "stdout",
     "output_type": "stream",
     "text": [
      "[-1.306440008369511, 3.837467106499049]\n"
     ]
    }
   ],
   "source": [
    "import numpy as np\n",
    "import matplotlib.pyplot as plt\n",
    "\n",
    "# Cost function\n",
    "f = lambda x: x**2 + 10*np.sin(x)\n",
    "X = np.linspace(-6, 6, 100000)\n",
    "Y = [f(x) for x in X]\n",
    "\n",
    "# Optimal point solve by \n",
    "# https://www.wolframalpha.com\n",
    "x = [-1.3064400083695109598,\n",
    "     3.8374671064990487198,\n",
    "     1.9773830293288409831]\n",
    "\n",
    "plt.scatter(x, cost(x), c='red')\n",
    "plt.plot(X, Y); plt.show(); print(x[0:2])"
   ]
  },
  {
   "cell_type": "code",
   "execution_count": 36,
   "metadata": {},
   "outputs": [],
   "source": [
    "# Gradient descent algorithm\n",
    "def simpleGD(x0, eta, loop):\n",
    "    x = [x0]\n",
    "    for it in range(loop):\n",
    "        x_new = x[-1] - eta*(grad(x[-1]))\n",
    "        if abs(grad(x_new)) < 1e-3: break\n",
    "        x.append(x_new)\n",
    "    return (x, it)"
   ]
  },
  {
   "cell_type": "code",
   "execution_count": 37,
   "metadata": {},
   "outputs": [
    {
     "name": "stdout",
     "output_type": "stream",
     "text": [
      "optimal point : 3.836788, cost : 8.315588, after 4 iterations\n"
     ]
    }
   ],
   "source": [
    "(x, it) = simpleGD(5.0, .1, 100)\n",
    "print('optimal point : %f, cost : %f, after %d iterations'%(x[-1], cost(x[-1]), it))"
   ]
  },
  {
   "cell_type": "code",
   "execution_count": 38,
   "metadata": {},
   "outputs": [
    {
     "name": "stdout",
     "output_type": "stream",
     "text": [
      "optimal point : -1.306528, cost : -7.945823, after 7 iterations\n"
     ]
    }
   ],
   "source": [
    "(x, it) = simpleGD(-5.0, .1, 100)\n",
    "print('optimal point : %f, cost : %f, after %d iterations'%(x[-1], cost(x[-1]), it))"
   ]
  },
  {
   "cell_type": "markdown",
   "metadata": {},
   "source": [
    "### Gradient descent alogorithm with momentum\n",
    "\n",
    "1. Initialize variable x to any random number : $x_0 = \\alpha$\n",
    "\n",
    "2. Pick a value for the learning rate $\\eta$.\n",
    "    - If α is very small, it would take long time to converge.\n",
    "    - If α is large, it may fail to converge and overshoot the minimum.\n",
    "    \n",
    "\n",
    "3. Repeat until convergense :  $ x_{t+1} = x_t - (\\eta ~ f'(x_t) + \\gamma x_{t-1})$"
   ]
  },
  {
   "cell_type": "markdown",
   "metadata": {},
   "source": [
    "### Simple Example\n",
    "- Simple function : $f(x) = x^2 + 10sin(x)$\n",
    "- Derivative function : $f'(x) = 2x + 10cos(x)$\n",
    "- Gradient descent formula : $ x_{t+1} = x_t - \\eta ~ (2x + 10cos(x)) $"
   ]
  },
  {
   "cell_type": "code",
   "execution_count": 39,
   "metadata": {},
   "outputs": [],
   "source": [
    "# Cost function\n",
    "def cost(x):\n",
    "    return np.power(x, 2) + 10*np.sin(x)\n",
    "\n",
    "# Derivative function\n",
    "def grad(x):\n",
    "    return np.dot(2, x) + 10*np.cos(x)"
   ]
  },
  {
   "cell_type": "code",
   "execution_count": 40,
   "metadata": {},
   "outputs": [
    {
     "data": {
      "image/png": "[encoded data removed]",
      "text/plain": [
       "<Figure size 432x288 with 1 Axes>"
      ]
     },
     "metadata": {
      "needs_background": "light"
     },
     "output_type": "display_data"
    },
    {
     "name": "stdout",
     "output_type": "stream",
     "text": [
      "[-1.306440008369511, 3.837467106499049]\n"
     ]
    }
   ],
   "source": [
    "import numpy as np\n",
    "import matplotlib.pyplot as plt\n",
    "\n",
    "# Cost function\n",
    "f = lambda x: x**2 + 10*np.sin(x)\n",
    "X = np.linspace(-6, 6, 100000)\n",
    "Y = [f(x) for x in X]\n",
    "\n",
    "# Optimal point solve by \n",
    "# https://www.wolframalpha.com\n",
    "x = [-1.3064400083695109598,\n",
    "     3.8374671064990487198,\n",
    "     1.9773830293288409831]\n",
    "\n",
    "plt.scatter(x, cost(x), c='red')\n",
    "plt.plot(X, Y); plt.show(); print(x[0:2])"
   ]
  },
  {
   "cell_type": "code",
   "execution_count": 41,
   "metadata": {},
   "outputs": [],
   "source": [
    "# Gradient descent algorithm with momentum\n",
    "def momentumGD(x0, eta, gamma, loop):\n",
    "    x = [x0]; v = [np.zeros_like(x0)]\n",
    "    \n",
    "    for it in range(loop):\n",
    "        v_new = gamma*v[-1] + eta*(grad(x[-1]))\n",
    "        x_new = x[-1] - v_new\n",
    "        if abs(grad(x_new)) < 1e-3: break\n",
    "        x.append(x_new); v.append(v_new)\n",
    "    return (x, it)"
   ]
  },
  {
   "cell_type": "code",
   "execution_count": 42,
   "metadata": {},
   "outputs": [
    {
     "name": "stdout",
     "output_type": "stream",
     "text": [
      "optimal point : -1.305296, cost : -7.945816, after 147 iterations\n"
     ]
    }
   ],
   "source": [
    "(x, it) = momentumGD(5.0, .1, .9, 1000)\n",
    "print('optimal point : %f, cost : %f, after %d iterations'%(x[-1], cost(x[-1]), it))"
   ]
  },
  {
   "cell_type": "markdown",
   "metadata": {},
   "source": [
    "### Nesterov accelerated gradient\n",
    "\n",
    "1. Initialize variable x to any random number : $x_0 = \\alpha$\n",
    "\n",
    "2. Pick a value for the learning rate $\\eta$.\n",
    "    - If α is very small, it would take long time to converge.\n",
    "    - If α is large, it may fail to converge and overshoot the minimum.\n",
    "\n",
    "\n",
    "3. Repeat until convergense :  $ x_{t+1} = x_t - (\\eta ~ f'(x_t - \\gamma ~ x_{t-1}) + \\gamma ~ x_{t-1})$"
   ]
  },
  {
   "cell_type": "markdown",
   "metadata": {},
   "source": [
    "### Simple Example\n",
    "- Simple function : $f(x) = x^2 + 10sin(x)$\n",
    "- Derivative function : $f'(x) = 2x + 10cos(x)$\n",
    "- Gradient descent formula : $ x_{t+1} = x_t - \\eta ~ (2x + 10cos(x)) $"
   ]
  },
  {
   "cell_type": "code",
   "execution_count": 43,
   "metadata": {},
   "outputs": [],
   "source": [
    "# Cost function\n",
    "def cost(x):\n",
    "    return np.power(x, 2) + 10*np.sin(x)\n",
    "\n",
    "# Derivative function\n",
    "def grad(x):\n",
    "    return np.dot(2, x) + 10*np.cos(x)"
   ]
  },
  {
   "cell_type": "code",
   "execution_count": 44,
   "metadata": {},
   "outputs": [
    {
     "data": {
      "image/png": "[encoded data removed]",
      "text/plain": [
       "<Figure size 432x288 with 1 Axes>"
      ]
     },
     "metadata": {
      "needs_background": "light"
     },
     "output_type": "display_data"
    },
    {
     "name": "stdout",
     "output_type": "stream",
     "text": [
      "[-1.306440008369511, 3.837467106499049]\n"
     ]
    }
   ],
   "source": [
    "import numpy as np\n",
    "import matplotlib.pyplot as plt\n",
    "\n",
    "# Cost function\n",
    "f = lambda x: x**2 + 10*np.sin(x)\n",
    "X = np.linspace(-6, 6, 100000)\n",
    "Y = [f(x) for x in X]\n",
    "\n",
    "# Optimal point solve by \n",
    "# https://www.wolframalpha.com\n",
    "x = [-1.3064400083695109598,\n",
    "     3.8374671064990487198,\n",
    "     1.9773830293288409831]\n",
    "\n",
    "plt.scatter(x, cost(x), c='red')\n",
    "plt.plot(X, Y); plt.show(); print(x[0:2])"
   ]
  },
  {
   "cell_type": "code",
   "execution_count": 45,
   "metadata": {},
   "outputs": [],
   "source": [
    "# Nesterov accelerated gradient\n",
    "def nesterovGD(x0, eta, gamma, loop):\n",
    "    x = [x0]\n",
    "    v = [np.zeros_like(x0)]\n",
    "    \n",
    "    for it in range(loop):\n",
    "        v_new = gamma*v[-1] + eta*(grad(x[-1] - gamma*v[-1]))\n",
    "        x_new = x[-1] - v_new\n",
    "        if np.linalg.norm(abs(grad(x_new))) / np.array(x0).size < 1e-3: break\n",
    "        x.append(x_new)\n",
    "        v.append(v_new)\n",
    "    return (x, it)"
   ]
  },
  {
   "cell_type": "code",
   "execution_count": 46,
   "metadata": {},
   "outputs": [
    {
     "name": "stdout",
     "output_type": "stream",
     "text": [
      "optimal point : -1.306342, cost : -7.945823, after 19 iterations\n"
     ]
    }
   ],
   "source": [
    "(x, it) = nesterovGD(5.0, .1, .9, 1000)\n",
    "print('optimal point : %f, cost : %f, after %d iterations'%(x[-1], cost(x[-1]), it))"
   ]
  }
 ],
 "metadata": {
  "kernelspec": {
   "display_name": "Python 3",
   "language": "python",
   "name": "python3"
  },
  "language_info": {
   "codemirror_mode": {
    "name": "ipython",
    "version": 3
   },
   "file_extension": ".py",
   "mimetype": "text/x-python",
   "name": "python",
   "nbconvert_exporter": "python",
   "pygments_lexer": "ipython3",
   "version": "3.6.8"
  }
 },
 "nbformat": 4,
 "nbformat_minor": 2
}
