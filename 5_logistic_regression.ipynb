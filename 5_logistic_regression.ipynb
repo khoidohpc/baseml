{
 "cells": [
  {
   "cell_type": "markdown",
   "metadata": {},
   "source": [
    "### Logistic regression\n",
    "\n",
    "$\\mathbf{X} = [\\mathbf{x_1}; ... ; \\mathbf{x_n}] \\in R_{n \\times d + 1}$,\n",
    "\n",
    "$\\mathbf{w} = [w_0; ... ; w_d] \\in R_{d + 1 \\times 1}$,\n",
    "\n",
    "$\\mathbf{y} = [y_1, ... ,y_n] \\in R_{1 \\times n}$\n",
    "\n",
    "$\\mathbf{h} = p(\\mathbf{y}|\\mathbf{X}; \\mathbf{w}) = \\mathbf{z}^{\\mathbf{y}} (1 - \\mathbf{z})^{\\mathbf{1 - y}}$;\n",
    "$\\mathbf{z} = f(\\mathbf{X w})$\n",
    "\n",
    "$f(x) = \\frac{1}{1 + e^{-x}}$, $f(x) = tanh(x) = \\frac{e^x - e^{-x}}{e^x + e^{-x}}$\n",
    "\n",
    "$\\mathcal{L(w)} = ||- \\mathbf{y} * log(\\mathbf{z}) - (1-\\mathbf{y}) log(1 - \\mathbf{z})||_1 \\div n$"
   ]
  },
  {
   "cell_type": "markdown",
   "metadata": {},
   "source": [
    "### Weight decay\n",
    "\n",
    "$||\\mathcal{L(w)} = - \\mathbf{y} * log(\\mathbf{z}) - (1-\\mathbf{y}) log(1 - \\mathbf{z})||_1 \\div n + \\frac{\\lambda}{2} ||\\mathbf{w}||^2_2$"
   ]
  },
  {
   "cell_type": "markdown",
   "metadata": {},
   "source": [
    "### Stochastic gradient descent\n",
    "\n",
    "$\\nabla_w J(\\mathbf{w}; \\mathbf{x_i}, y_i) = -(\\frac{y_i}{z_i} - \\frac{1- y_i}{1- z_i})\\nabla_w z_i + \\lambda \\mathbf{w} = \\frac{z_i - y_i}{z_i (1 - z_i)} \\nabla_w z_i + \\lambda \\mathbf{w}$\n",
    "\n",
    "$\\nabla_w z_i = z_i (1 - z_i) \\mathbf{x_i}  \\rightarrow \\nabla_w J(\\mathbf{w}; \\mathbf{x_i}, y_i) = (z_i - y_i) \\mathbf{x_i} + \\lambda \\mathbf{w}$"
   ]
  },
  {
   "cell_type": "code",
   "execution_count": 98,
   "metadata": {},
   "outputs": [],
   "source": [
    "import numpy as np\n",
    "\n",
    "def sigmoid(z):\n",
    "    return 1/(1 + np.exp(-z))\n",
    "def prod(w, X):\n",
    "    return sigmoid(X.dot(w))\n",
    "def loss(w, X, y, lam):\n",
    "    z = prod(w, X)\n",
    "    return -np.mean(y*np.log(z) +(1-y)*np.log(1 - z)) + 0.5*lam*np.mean(w*w)"
   ]
  },
  {
   "cell_type": "code",
   "execution_count": 99,
   "metadata": {},
   "outputs": [],
   "source": [
    "def logistic_regression(w_init, X, y, lam = 0.001, lr = 0.1, nepoches = 2000):\n",
    "    # lam - reg paramether, lr - learning rate, nepoches - number of epoches\n",
    "    N, d = X.shape[0], X.shape[1]\n",
    "    w = w_old = w_init\n",
    "    loss_hist = [loss(w, X, y, lam)]\n",
    "    ep = 0\n",
    "    while ep < nepoches:\n",
    "        ep = ep + 1\n",
    "        miss_idxs = np.random.permutation(N)\n",
    "        for i in miss_idxs:\n",
    "            xi = X[i]\n",
    "            yi = y[i]\n",
    "            zi = sigmoid(xi.dot(w))\n",
    "            w = w -lr*((zi - yi)*xi + lam*w)\n",
    "        loss_hist.append(loss(w, X, y, lam))\n",
    "        if np.linalg.norm(w - w_old)/d < 1e-6: break\n",
    "        w_old = w\n",
    "    return (w, loss_hist)"
   ]
  },
  {
   "cell_type": "code",
   "execution_count": 113,
   "metadata": {},
   "outputs": [
    {
     "data": {
      "image/png": "[encoded data removed]",
      "text/plain": [
       "<Figure size 432x288 with 1 Axes>"
      ]
     },
     "metadata": {
      "needs_background": "light"
     },
     "output_type": "display_data"
    }
   ],
   "source": [
    "import matplotlib.pyplot as plt\n",
    "N= 20\n",
    "\n",
    "_X = np.array([[0.50, 0.75, 1.00, 1.25, 1.50, 1.75, 1.75, 2.00, 2.25, 2.50,\n",
    "               2.75, 3.00, 3.25, 3.50, 4.00, 4.25, 4.50, 4.75, 5.00, 5.50]]).T\n",
    "\n",
    "y = np.array([0, 0, 0, 0, 0, 0, 1, 0, 1, 0, 1, 0, 1, 0, 1, 1, 1, 1, 1, 1])\n",
    "\n",
    "y_true_index = np.where(y == True)\n",
    "y_false_index = np.where(y == False)\n",
    "\n",
    "# show graph\n",
    "plt.scatter(_X[y_true_index], y[y_true_index], c=\"red\")\n",
    "plt.scatter(_X[y_false_index], y[y_false_index], c=\"blue\")\n",
    "plt.show()\n",
    "\n",
    "X = np.concatenate((_X, np.ones((N, 1))), axis = 1)"
   ]
  },
  {
   "cell_type": "code",
   "execution_count": 114,
   "metadata": {},
   "outputs": [
    {
     "data": {
      "image/png": "[encoded data removed]",
      "text/plain": [
       "<Figure size 432x288 with 1 Axes>"
      ]
     },
     "metadata": {
      "needs_background": "light"
     },
     "output_type": "display_data"
    }
   ],
   "source": [
    "w_init = np.random.randn(X.shape[1]); lam = 0.0001\n",
    "w, loss_hist = logistic_regression(w_init, X, y, lam, lr = 0.05, nepoches = 500)\n",
    "\n",
    "# show graph\n",
    "plt.scatter(_X[y_true_index], y[y_true_index], c=\"red\")\n",
    "plt.scatter(_X[y_false_index], y[y_false_index], c=\"blue\")\n",
    "\n",
    "dom = np.linspace(0, 6, 1000)\n",
    "val = [sigmoid(x*w[0] + w[1]) for x in dom]\n",
    "plt.plot(dom, val); plt.show()\n",
    "\n",
    "plt.show()"
   ]
  }
 ],
 "metadata": {
  "kernelspec": {
   "display_name": "Python 3",
   "language": "python",
   "name": "python3"
  },
  "language_info": {
   "codemirror_mode": {
    "name": "ipython",
    "version": 3
   },
   "file_extension": ".py",
   "mimetype": "text/x-python",
   "name": "python",
   "nbconvert_exporter": "python",
   "pygments_lexer": "ipython3",
   "version": "3.6.8"
  }
 },
 "nbformat": 4,
 "nbformat_minor": 2
}
