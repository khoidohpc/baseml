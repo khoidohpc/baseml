{
 "cells": [
  {
   "cell_type": "markdown",
   "metadata": {},
   "source": [
    "### Gradient descent algorithm\n",
    "\n",
    "1. Initialize variable x to any random number : $x_0 = \\alpha$\n",
    "\n",
    "2. Pick a value for the learning rate $\\eta$.\n",
    "    - If α is very small, it would take long time to converge.\n",
    "    - If α is large, it may fail to converge and overshoot the minimum.\n",
    "    \n",
    "\n",
    "3. Repeat until convergense :  $ x_{t+1} = x_t - \\eta ~ f'(x_t)$"
   ]
  },
  {
   "cell_type": "markdown",
   "metadata": {},
   "source": [
    "### Simple Example\n",
    "- Simple function : $f(x) = x^2 + 5sin(x)$\n",
    "- Derivative function : $f'(x) = 2x + 5cos(x)$\n",
    "- Gradient descent formula : $ x_{t+1} = x_t - \\eta (2x + 5cos(x)) $"
   ]
  },
  {
   "cell_type": "code",
   "execution_count": 1,
   "metadata": {},
   "outputs": [],
   "source": [
    "# Cost function\n",
    "def cost(x):\n",
    "    return x**2 + 5*np.sin(x)\n",
    "\n",
    "# Derivative function\n",
    "def grad(x):\n",
    "    return 2*x + 5*np.cos(x)"
   ]
  },
  {
   "cell_type": "code",
   "execution_count": 2,
   "metadata": {},
   "outputs": [
    {
     "data": {
      "text/plain": [
       "<Figure size 640x480 with 1 Axes>"
      ]
     },
     "metadata": {},
     "output_type": "display_data"
    },
    {
     "name": "stdout",
     "output_type": "stream",
     "text": [
      "(-1.1105, -3.246394272334107)\n"
     ]
    }
   ],
   "source": [
    "import matplotlib.pyplot as plt\n",
    "import numpy as np\n",
    "\n",
    "# cost function\n",
    "X = np.linspace(-5, 5, 100)\n",
    "Y = [cost(x) for x in X]\n",
    "plt.plot(X, Y, c='blue')\n",
    "\n",
    "# optimal point solve by \n",
    "# https://www.wolframalpha.com\n",
    "x = -2221/2000; y =cost(x)\n",
    "plt.scatter(x, y, c='red')\n",
    "\n",
    "plt.show(); print((x, y))"
   ]
  },
  {
   "cell_type": "code",
   "execution_count": 3,
   "metadata": {},
   "outputs": [],
   "source": [
    "# Gradient descent algorithm\n",
    "def simpleGD(x0, eta, loop):\n",
    "    x = [x0]\n",
    "    for it in range(loop):\n",
    "        x_new = x[-1] - eta*(grad(x[-1]))\n",
    "        if abs(grad(x_new)) < 1e-6: break\n",
    "        x.append(x_new)\n",
    "    return (x, it)"
   ]
  },
  {
   "cell_type": "code",
   "execution_count": 4,
   "metadata": {
    "scrolled": true
   },
   "outputs": [
    {
     "name": "stdout",
     "output_type": "stream",
     "text": [
      "optimal point : -1.110511, cost : -3.246394, after 17 iterations\n"
     ]
    }
   ],
   "source": [
    "(x, it) = simpleGD(-5.0, .1, 100)\n",
    "print('optimal point : %f, cost : %f, after %d iterations'%(x[-1], cost(x[-1]), it))"
   ]
  }
 ],
 "metadata": {
  "kernelspec": {
   "display_name": "Python 3",
   "language": "python",
   "name": "python3"
  },
  "language_info": {
   "codemirror_mode": {
    "name": "ipython",
    "version": 3
   },
   "file_extension": ".py",
   "mimetype": "text/x-python",
   "name": "python",
   "nbconvert_exporter": "python",
   "pygments_lexer": "ipython3",
   "version": "3.6.8"
  }
 },
 "nbformat": 4,
 "nbformat_minor": 2
}
